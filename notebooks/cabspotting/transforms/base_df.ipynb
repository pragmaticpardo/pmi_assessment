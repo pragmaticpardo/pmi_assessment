{
 "cells": [
  {
   "cell_type": "code",
   "execution_count": 1,
   "id": "0227d43c",
   "metadata": {},
   "outputs": [
    {
     "name": "stdout",
     "output_type": "stream",
     "text": [
      "D:\\Projects\\CondaAnalyses\\PMI\n"
     ]
    }
   ],
   "source": [
    "%cd ..\\..\\.."
   ]
  },
  {
   "cell_type": "code",
   "execution_count": 2,
   "id": "9a44bfa3",
   "metadata": {},
   "outputs": [],
   "source": [
    "import utilities"
   ]
  },
  {
   "cell_type": "code",
   "execution_count": 3,
   "id": "d098b1c6",
   "metadata": {},
   "outputs": [
    {
     "data": {
      "text/html": [
       "<div>\n",
       "<style scoped>\n",
       "    .dataframe tbody tr th:only-of-type {\n",
       "        vertical-align: middle;\n",
       "    }\n",
       "\n",
       "    .dataframe tbody tr th {\n",
       "        vertical-align: top;\n",
       "    }\n",
       "\n",
       "    .dataframe thead th {\n",
       "        text-align: right;\n",
       "    }\n",
       "</style>\n",
       "<table border=\"1\" class=\"dataframe\">\n",
       "  <thead>\n",
       "    <tr style=\"text-align: right;\">\n",
       "      <th></th>\n",
       "      <th>latitude</th>\n",
       "      <th>longitude</th>\n",
       "      <th>occupancy</th>\n",
       "      <th>time</th>\n",
       "      <th>file_name</th>\n",
       "      <th>id</th>\n",
       "    </tr>\n",
       "  </thead>\n",
       "  <tbody>\n",
       "    <tr>\n",
       "      <th>0</th>\n",
       "      <td>37.75153</td>\n",
       "      <td>-122.39447</td>\n",
       "      <td>0</td>\n",
       "      <td>1211033530</td>\n",
       "      <td>abboip</td>\n",
       "      <td>abboip_1211033530</td>\n",
       "    </tr>\n",
       "    <tr>\n",
       "      <th>1</th>\n",
       "      <td>37.75149</td>\n",
       "      <td>-122.39447</td>\n",
       "      <td>0</td>\n",
       "      <td>1211033614</td>\n",
       "      <td>abboip</td>\n",
       "      <td>abboip_1211033614</td>\n",
       "    </tr>\n",
       "    <tr>\n",
       "      <th>2</th>\n",
       "      <td>37.75149</td>\n",
       "      <td>-122.39447</td>\n",
       "      <td>0</td>\n",
       "      <td>1211033674</td>\n",
       "      <td>abboip</td>\n",
       "      <td>abboip_1211033674</td>\n",
       "    </tr>\n",
       "    <tr>\n",
       "      <th>3</th>\n",
       "      <td>37.75149</td>\n",
       "      <td>-122.39446</td>\n",
       "      <td>0</td>\n",
       "      <td>1211033735</td>\n",
       "      <td>abboip</td>\n",
       "      <td>abboip_1211033735</td>\n",
       "    </tr>\n",
       "    <tr>\n",
       "      <th>4</th>\n",
       "      <td>37.75144</td>\n",
       "      <td>-122.39449</td>\n",
       "      <td>0</td>\n",
       "      <td>1211035303</td>\n",
       "      <td>abboip</td>\n",
       "      <td>abboip_1211035303</td>\n",
       "    </tr>\n",
       "  </tbody>\n",
       "</table>\n",
       "</div>"
      ],
      "text/plain": [
       "   latitude  longitude  occupancy        time file_name                 id\n",
       "0  37.75153 -122.39447          0  1211033530    abboip  abboip_1211033530\n",
       "1  37.75149 -122.39447          0  1211033614    abboip  abboip_1211033614\n",
       "2  37.75149 -122.39447          0  1211033674    abboip  abboip_1211033674\n",
       "3  37.75149 -122.39446          0  1211033735    abboip  abboip_1211033735\n",
       "4  37.75144 -122.39449          0  1211035303    abboip  abboip_1211035303"
      ]
     },
     "execution_count": 3,
     "metadata": {},
     "output_type": "execute_result"
    }
   ],
   "source": [
    "# Join files\n",
    "df = utilities.create_base_df('cabspottingdata', ['latitude', 'longitude', 'occupancy', 'time'])\n",
    "df.head()"
   ]
  },
  {
   "cell_type": "code",
   "execution_count": 6,
   "id": "23009774",
   "metadata": {},
   "outputs": [
    {
     "data": {
      "text/html": [
       "<div>\n",
       "<style scoped>\n",
       "    .dataframe tbody tr th:only-of-type {\n",
       "        vertical-align: middle;\n",
       "    }\n",
       "\n",
       "    .dataframe tbody tr th {\n",
       "        vertical-align: top;\n",
       "    }\n",
       "\n",
       "    .dataframe thead th {\n",
       "        text-align: right;\n",
       "    }\n",
       "</style>\n",
       "<table border=\"1\" class=\"dataframe\">\n",
       "  <thead>\n",
       "    <tr style=\"text-align: right;\">\n",
       "      <th></th>\n",
       "      <th>latitude</th>\n",
       "      <th>longitude</th>\n",
       "      <th>occupancy</th>\n",
       "      <th>time</th>\n",
       "      <th>file_name</th>\n",
       "      <th>id</th>\n",
       "    </tr>\n",
       "  </thead>\n",
       "  <tbody>\n",
       "    <tr>\n",
       "      <th>0</th>\n",
       "      <td>37.75153</td>\n",
       "      <td>-122.39447</td>\n",
       "      <td>0</td>\n",
       "      <td>2008-05-17 14:12:10</td>\n",
       "      <td>abboip</td>\n",
       "      <td>abboip_1211033530</td>\n",
       "    </tr>\n",
       "    <tr>\n",
       "      <th>1</th>\n",
       "      <td>37.75149</td>\n",
       "      <td>-122.39447</td>\n",
       "      <td>0</td>\n",
       "      <td>2008-05-17 14:13:34</td>\n",
       "      <td>abboip</td>\n",
       "      <td>abboip_1211033614</td>\n",
       "    </tr>\n",
       "  </tbody>\n",
       "</table>\n",
       "</div>"
      ],
      "text/plain": [
       "   latitude  longitude  occupancy                time file_name  \\\n",
       "0  37.75153 -122.39447          0 2008-05-17 14:12:10    abboip   \n",
       "1  37.75149 -122.39447          0 2008-05-17 14:13:34    abboip   \n",
       "\n",
       "                  id  \n",
       "0  abboip_1211033530  \n",
       "1  abboip_1211033614  "
      ]
     },
     "execution_count": 6,
     "metadata": {},
     "output_type": "execute_result"
    }
   ],
   "source": [
    "# timestamp to date time in seconds\n",
    "import pandas as pd\n",
    "from datetime import datetime\n",
    "df['time'] = pd.to_datetime(df['time'], unit='s')\n",
    "df.head(2)"
   ]
  },
  {
   "cell_type": "code",
   "execution_count": 14,
   "id": "6ae3dc30",
   "metadata": {},
   "outputs": [
    {
     "data": {
      "text/html": [
       "<div>\n",
       "<style scoped>\n",
       "    .dataframe tbody tr th:only-of-type {\n",
       "        vertical-align: middle;\n",
       "    }\n",
       "\n",
       "    .dataframe tbody tr th {\n",
       "        vertical-align: top;\n",
       "    }\n",
       "\n",
       "    .dataframe thead th {\n",
       "        text-align: right;\n",
       "    }\n",
       "</style>\n",
       "<table border=\"1\" class=\"dataframe\">\n",
       "  <thead>\n",
       "    <tr style=\"text-align: right;\">\n",
       "      <th></th>\n",
       "      <th>id</th>\n",
       "      <th>file_name</th>\n",
       "      <th>latitude</th>\n",
       "      <th>longitude</th>\n",
       "      <th>time</th>\n",
       "      <th>occupancy</th>\n",
       "    </tr>\n",
       "  </thead>\n",
       "  <tbody>\n",
       "    <tr>\n",
       "      <th>0</th>\n",
       "      <td>abboip_1211033530</td>\n",
       "      <td>abboip</td>\n",
       "      <td>37.75153</td>\n",
       "      <td>-122.39447</td>\n",
       "      <td>2008-05-17 14:12:10</td>\n",
       "      <td>0</td>\n",
       "    </tr>\n",
       "    <tr>\n",
       "      <th>1</th>\n",
       "      <td>abboip_1211033614</td>\n",
       "      <td>abboip</td>\n",
       "      <td>37.75149</td>\n",
       "      <td>-122.39447</td>\n",
       "      <td>2008-05-17 14:13:34</td>\n",
       "      <td>0</td>\n",
       "    </tr>\n",
       "  </tbody>\n",
       "</table>\n",
       "</div>"
      ],
      "text/plain": [
       "                  id file_name  latitude  longitude                time  \\\n",
       "0  abboip_1211033530    abboip  37.75153 -122.39447 2008-05-17 14:12:10   \n",
       "1  abboip_1211033614    abboip  37.75149 -122.39447 2008-05-17 14:13:34   \n",
       "\n",
       "   occupancy  \n",
       "0          0  \n",
       "1          0  "
      ]
     },
     "execution_count": 14,
     "metadata": {},
     "output_type": "execute_result"
    }
   ],
   "source": [
    "# order data frame\n",
    "df = df[['id', 'file_name', 'latitude', 'longitude', 'time','occupancy']]\n",
    "df = df.sort_values(['id', 'time']).reset_index(drop=True)\n",
    "df.head(2)"
   ]
  },
  {
   "cell_type": "code",
   "execution_count": 19,
   "id": "a0355f31",
   "metadata": {},
   "outputs": [
    {
     "data": {
      "text/html": [
       "<div>\n",
       "<style scoped>\n",
       "    .dataframe tbody tr th:only-of-type {\n",
       "        vertical-align: middle;\n",
       "    }\n",
       "\n",
       "    .dataframe tbody tr th {\n",
       "        vertical-align: top;\n",
       "    }\n",
       "\n",
       "    .dataframe thead th {\n",
       "        text-align: right;\n",
       "    }\n",
       "</style>\n",
       "<table border=\"1\" class=\"dataframe\">\n",
       "  <thead>\n",
       "    <tr style=\"text-align: right;\">\n",
       "      <th></th>\n",
       "      <th>count</th>\n",
       "      <th>mean</th>\n",
       "      <th>std</th>\n",
       "      <th>min</th>\n",
       "      <th>25%</th>\n",
       "      <th>50%</th>\n",
       "      <th>75%</th>\n",
       "      <th>max</th>\n",
       "    </tr>\n",
       "  </thead>\n",
       "  <tbody>\n",
       "    <tr>\n",
       "      <th>latitude</th>\n",
       "      <td>11220058.0</td>\n",
       "      <td>37.763601</td>\n",
       "      <td>0.053860</td>\n",
       "      <td>32.86970</td>\n",
       "      <td>37.75513</td>\n",
       "      <td>37.78106</td>\n",
       "      <td>37.79045</td>\n",
       "      <td>50.30546</td>\n",
       "    </tr>\n",
       "    <tr>\n",
       "      <th>longitude</th>\n",
       "      <td>11220058.0</td>\n",
       "      <td>-122.412432</td>\n",
       "      <td>0.035782</td>\n",
       "      <td>-127.08143</td>\n",
       "      <td>-122.42525</td>\n",
       "      <td>-122.41106</td>\n",
       "      <td>-122.40027</td>\n",
       "      <td>-115.56218</td>\n",
       "    </tr>\n",
       "    <tr>\n",
       "      <th>occupancy</th>\n",
       "      <td>11220058.0</td>\n",
       "      <td>0.447224</td>\n",
       "      <td>0.497207</td>\n",
       "      <td>0.00000</td>\n",
       "      <td>0.00000</td>\n",
       "      <td>0.00000</td>\n",
       "      <td>1.00000</td>\n",
       "      <td>1.00000</td>\n",
       "    </tr>\n",
       "  </tbody>\n",
       "</table>\n",
       "</div>"
      ],
      "text/plain": [
       "                count        mean       std        min        25%        50%  \\\n",
       "latitude   11220058.0   37.763601  0.053860   32.86970   37.75513   37.78106   \n",
       "longitude  11220058.0 -122.412432  0.035782 -127.08143 -122.42525 -122.41106   \n",
       "occupancy  11220058.0    0.447224  0.497207    0.00000    0.00000    0.00000   \n",
       "\n",
       "                 75%        max  \n",
       "latitude    37.79045   50.30546  \n",
       "longitude -122.40027 -115.56218  \n",
       "occupancy    1.00000    1.00000  "
      ]
     },
     "execution_count": 19,
     "metadata": {},
     "output_type": "execute_result"
    }
   ],
   "source": [
    "df.describe().transpose()"
   ]
  },
  {
   "cell_type": "markdown",
   "id": "6d658d1f",
   "metadata": {},
   "source": [
    "There are 11,220,058 observations in the dataset."
   ]
  },
  {
   "cell_type": "code",
   "execution_count": 20,
   "id": "a35691b8",
   "metadata": {},
   "outputs": [
    {
     "ename": "NameError",
     "evalue": "name 'gc' is not defined",
     "output_type": "error",
     "traceback": [
      "\u001b[1;31m---------------------------------------------------------------------------\u001b[0m",
      "\u001b[1;31mNameError\u001b[0m                                 Traceback (most recent call last)",
      "Input \u001b[1;32mIn [20]\u001b[0m, in \u001b[0;36m<cell line: 4>\u001b[1;34m()\u001b[0m\n\u001b[0;32m      2\u001b[0m df\u001b[38;5;241m.\u001b[39mto_csv(data_path\u001b[38;5;241m+\u001b[39m\u001b[38;5;124m'\u001b[39m\u001b[38;5;124mbase_df.csv\u001b[39m\u001b[38;5;124m'\u001b[39m)\n\u001b[0;32m      3\u001b[0m \u001b[38;5;28;01mdel\u001b[39;00m df\n\u001b[1;32m----> 4\u001b[0m \u001b[43mgc\u001b[49m\u001b[38;5;241m.\u001b[39mcollect()\n",
      "\u001b[1;31mNameError\u001b[0m: name 'gc' is not defined"
     ]
    }
   ],
   "source": [
    "data_path = 'data_checkpoints/usecase_cab/'\n",
    "df.to_csv(data_path+'base_df.csv')\n",
    "del df\n"
   ]
  },
  {
   "cell_type": "code",
   "execution_count": 21,
   "id": "c0307c61",
   "metadata": {},
   "outputs": [
    {
     "data": {
      "text/plain": [
       "1143"
      ]
     },
     "execution_count": 21,
     "metadata": {},
     "output_type": "execute_result"
    }
   ],
   "source": [
    "import gc\n",
    "gc.collect()"
   ]
  }
 ],
 "metadata": {
  "kernelspec": {
   "display_name": "Python 3 (ipykernel)",
   "language": "python",
   "name": "python3"
  },
  "language_info": {
   "codemirror_mode": {
    "name": "ipython",
    "version": 3
   },
   "file_extension": ".py",
   "mimetype": "text/x-python",
   "name": "python",
   "nbconvert_exporter": "python",
   "pygments_lexer": "ipython3",
   "version": "3.10.4"
  }
 },
 "nbformat": 4,
 "nbformat_minor": 5
}
