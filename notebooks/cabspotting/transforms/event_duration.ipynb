{
 "cells": [
  {
   "cell_type": "code",
   "execution_count": 1,
   "id": "47348e91",
   "metadata": {},
   "outputs": [
    {
     "name": "stdout",
     "output_type": "stream",
     "text": [
      "D:\\Projects\\CondaAnalyses\\PMI\n"
     ]
    }
   ],
   "source": [
    "%cd ..\\..\\..\n",
    "import pandas as pd\n",
    "import gc\n",
    "import datetime"
   ]
  },
  {
   "cell_type": "code",
   "execution_count": 2,
   "id": "ba00db7f",
   "metadata": {},
   "outputs": [],
   "source": [
    "data_path = 'data_checkpoints/usecase_cab/'"
   ]
  },
  {
   "cell_type": "code",
   "execution_count": 3,
   "id": "5eb29bf8",
   "metadata": {},
   "outputs": [
    {
     "data": {
      "text/html": [
       "<div>\n",
       "<style scoped>\n",
       "    .dataframe tbody tr th:only-of-type {\n",
       "        vertical-align: middle;\n",
       "    }\n",
       "\n",
       "    .dataframe tbody tr th {\n",
       "        vertical-align: top;\n",
       "    }\n",
       "\n",
       "    .dataframe thead th {\n",
       "        text-align: right;\n",
       "    }\n",
       "</style>\n",
       "<table border=\"1\" class=\"dataframe\">\n",
       "  <thead>\n",
       "    <tr style=\"text-align: right;\">\n",
       "      <th></th>\n",
       "      <th>id</th>\n",
       "      <th>id_event</th>\n",
       "    </tr>\n",
       "  </thead>\n",
       "  <tbody>\n",
       "    <tr>\n",
       "      <th>0</th>\n",
       "      <td>abboip_1211033530</td>\n",
       "      <td>abboip_1211033530</td>\n",
       "    </tr>\n",
       "    <tr>\n",
       "      <th>1</th>\n",
       "      <td>abboip_1211033614</td>\n",
       "      <td>abboip_1211033530</td>\n",
       "    </tr>\n",
       "  </tbody>\n",
       "</table>\n",
       "</div>"
      ],
      "text/plain": [
       "                  id           id_event\n",
       "0  abboip_1211033530  abboip_1211033530\n",
       "1  abboip_1211033614  abboip_1211033530"
      ]
     },
     "execution_count": 3,
     "metadata": {},
     "output_type": "execute_result"
    }
   ],
   "source": [
    "# import the occupancy df to get the id_event feature\n",
    "df = pd.read_csv(data_path+'occupancy_state_change.csv', index_col=0)\n",
    "df.head(2)"
   ]
  },
  {
   "cell_type": "code",
   "execution_count": 4,
   "id": "12409316",
   "metadata": {},
   "outputs": [
    {
     "data": {
      "text/html": [
       "<div>\n",
       "<style scoped>\n",
       "    .dataframe tbody tr th:only-of-type {\n",
       "        vertical-align: middle;\n",
       "    }\n",
       "\n",
       "    .dataframe tbody tr th {\n",
       "        vertical-align: top;\n",
       "    }\n",
       "\n",
       "    .dataframe thead th {\n",
       "        text-align: right;\n",
       "    }\n",
       "</style>\n",
       "<table border=\"1\" class=\"dataframe\">\n",
       "  <thead>\n",
       "    <tr style=\"text-align: right;\">\n",
       "      <th></th>\n",
       "      <th>id</th>\n",
       "      <th>id_event</th>\n",
       "      <th>time</th>\n",
       "    </tr>\n",
       "  </thead>\n",
       "  <tbody>\n",
       "    <tr>\n",
       "      <th>0</th>\n",
       "      <td>abboip_1211033530</td>\n",
       "      <td>abboip_1211033530</td>\n",
       "      <td>2008-05-17 14:12:10</td>\n",
       "    </tr>\n",
       "    <tr>\n",
       "      <th>1</th>\n",
       "      <td>abboip_1211033614</td>\n",
       "      <td>abboip_1211033530</td>\n",
       "      <td>2008-05-17 14:13:34</td>\n",
       "    </tr>\n",
       "    <tr>\n",
       "      <th>2</th>\n",
       "      <td>abboip_1211033674</td>\n",
       "      <td>abboip_1211033530</td>\n",
       "      <td>2008-05-17 14:14:34</td>\n",
       "    </tr>\n",
       "    <tr>\n",
       "      <th>3</th>\n",
       "      <td>abboip_1211033735</td>\n",
       "      <td>abboip_1211033530</td>\n",
       "      <td>2008-05-17 14:15:35</td>\n",
       "    </tr>\n",
       "    <tr>\n",
       "      <th>4</th>\n",
       "      <td>abboip_1211035303</td>\n",
       "      <td>abboip_1211033530</td>\n",
       "      <td>2008-05-17 14:41:43</td>\n",
       "    </tr>\n",
       "  </tbody>\n",
       "</table>\n",
       "</div>"
      ],
      "text/plain": [
       "                  id           id_event                time\n",
       "0  abboip_1211033530  abboip_1211033530 2008-05-17 14:12:10\n",
       "1  abboip_1211033614  abboip_1211033530 2008-05-17 14:13:34\n",
       "2  abboip_1211033674  abboip_1211033530 2008-05-17 14:14:34\n",
       "3  abboip_1211033735  abboip_1211033530 2008-05-17 14:15:35\n",
       "4  abboip_1211035303  abboip_1211033530 2008-05-17 14:41:43"
      ]
     },
     "execution_count": 4,
     "metadata": {},
     "output_type": "execute_result"
    }
   ],
   "source": [
    "# append time column from id\n",
    "df['time'] = pd.to_datetime(df['id'].apply(lambda row: row.split('_')[1]).astype(int), unit='s')\n",
    "df.head()"
   ]
  },
  {
   "cell_type": "code",
   "execution_count": 5,
   "id": "b25d03e1",
   "metadata": {},
   "outputs": [
    {
     "data": {
      "text/html": [
       "<div>\n",
       "<style scoped>\n",
       "    .dataframe tbody tr th:only-of-type {\n",
       "        vertical-align: middle;\n",
       "    }\n",
       "\n",
       "    .dataframe tbody tr th {\n",
       "        vertical-align: top;\n",
       "    }\n",
       "\n",
       "    .dataframe thead th {\n",
       "        text-align: right;\n",
       "    }\n",
       "</style>\n",
       "<table border=\"1\" class=\"dataframe\">\n",
       "  <thead>\n",
       "    <tr style=\"text-align: right;\">\n",
       "      <th></th>\n",
       "      <th>id</th>\n",
       "      <th>event_duration</th>\n",
       "    </tr>\n",
       "  </thead>\n",
       "  <tbody>\n",
       "    <tr>\n",
       "      <th>0</th>\n",
       "      <td>abboip_1211033530</td>\n",
       "      <td>2314.0</td>\n",
       "    </tr>\n",
       "    <tr>\n",
       "      <th>1</th>\n",
       "      <td>abboip_1211033614</td>\n",
       "      <td>2314.0</td>\n",
       "    </tr>\n",
       "    <tr>\n",
       "      <th>2</th>\n",
       "      <td>abboip_1211033674</td>\n",
       "      <td>2314.0</td>\n",
       "    </tr>\n",
       "    <tr>\n",
       "      <th>3</th>\n",
       "      <td>abboip_1211033735</td>\n",
       "      <td>2314.0</td>\n",
       "    </tr>\n",
       "    <tr>\n",
       "      <th>4</th>\n",
       "      <td>abboip_1211035303</td>\n",
       "      <td>2314.0</td>\n",
       "    </tr>\n",
       "  </tbody>\n",
       "</table>\n",
       "</div>"
      ],
      "text/plain": [
       "                  id  event_duration\n",
       "0  abboip_1211033530          2314.0\n",
       "1  abboip_1211033614          2314.0\n",
       "2  abboip_1211033674          2314.0\n",
       "3  abboip_1211033735          2314.0\n",
       "4  abboip_1211035303          2314.0"
      ]
     },
     "execution_count": 5,
     "metadata": {},
     "output_type": "execute_result"
    }
   ],
   "source": [
    "# sort by time and group dataset by id_event\n",
    "id_events_df = df.sort_values(['time']).groupby(by=['id_event'])\n",
    "\n",
    "# create a duration df by filtering event duration\n",
    "event_duration_df = (id_events_df['time'].max() - id_events_df['time'].min()).dt.total_seconds()\n",
    "event_duration_df = event_duration_df.reset_index().rename(columns={'time': 'event_duration'})\n",
    "\n",
    "# merge to df\n",
    "df = df.merge(event_duration_df, on='id_event')\n",
    "\n",
    "# make RAM happy\n",
    "del event_duration_df, id_events_df\n",
    "gc.collect()\n",
    "df.drop(['id_event', 'time'], axis=1, inplace=True)\n",
    "df.head()"
   ]
  },
  {
   "cell_type": "code",
   "execution_count": 6,
   "id": "9885e622",
   "metadata": {},
   "outputs": [
    {
     "data": {
      "text/plain": [
       "0"
      ]
     },
     "execution_count": 6,
     "metadata": {},
     "output_type": "execute_result"
    }
   ],
   "source": [
    "df.to_csv(data_path+'event_duration.csv')\n",
    "del df\n",
    "gc.collect()"
   ]
  }
 ],
 "metadata": {
  "kernelspec": {
   "display_name": "Python 3 (ipykernel)",
   "language": "python",
   "name": "python3"
  },
  "language_info": {
   "codemirror_mode": {
    "name": "ipython",
    "version": 3
   },
   "file_extension": ".py",
   "mimetype": "text/x-python",
   "name": "python",
   "nbconvert_exporter": "python",
   "pygments_lexer": "ipython3",
   "version": "3.10.4"
  }
 },
 "nbformat": 4,
 "nbformat_minor": 5
}
