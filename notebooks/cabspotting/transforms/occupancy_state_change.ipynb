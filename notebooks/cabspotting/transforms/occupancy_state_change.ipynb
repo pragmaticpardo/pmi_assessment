{
 "cells": [
  {
   "cell_type": "code",
   "execution_count": 1,
   "id": "e7c261ce",
   "metadata": {},
   "outputs": [
    {
     "name": "stdout",
     "output_type": "stream",
     "text": [
      "D:\\Projects\\CondaAnalyses\\PMI\n"
     ]
    }
   ],
   "source": [
    "%cd ..\\..\\..\n",
    "import pandas as pd\n",
    "import gc"
   ]
  },
  {
   "cell_type": "code",
   "execution_count": 2,
   "id": "d768438d",
   "metadata": {},
   "outputs": [
    {
     "data": {
      "text/html": [
       "<div>\n",
       "<style scoped>\n",
       "    .dataframe tbody tr th:only-of-type {\n",
       "        vertical-align: middle;\n",
       "    }\n",
       "\n",
       "    .dataframe tbody tr th {\n",
       "        vertical-align: top;\n",
       "    }\n",
       "\n",
       "    .dataframe thead th {\n",
       "        text-align: right;\n",
       "    }\n",
       "</style>\n",
       "<table border=\"1\" class=\"dataframe\">\n",
       "  <thead>\n",
       "    <tr style=\"text-align: right;\">\n",
       "      <th></th>\n",
       "      <th>id</th>\n",
       "      <th>file_name</th>\n",
       "      <th>latitude</th>\n",
       "      <th>longitude</th>\n",
       "      <th>time</th>\n",
       "      <th>occupancy</th>\n",
       "    </tr>\n",
       "  </thead>\n",
       "  <tbody>\n",
       "    <tr>\n",
       "      <th>0</th>\n",
       "      <td>abboip_1211033530</td>\n",
       "      <td>abboip</td>\n",
       "      <td>37.75153</td>\n",
       "      <td>-122.39447</td>\n",
       "      <td>2008-05-17 14:12:10</td>\n",
       "      <td>0</td>\n",
       "    </tr>\n",
       "    <tr>\n",
       "      <th>1</th>\n",
       "      <td>abboip_1211033614</td>\n",
       "      <td>abboip</td>\n",
       "      <td>37.75149</td>\n",
       "      <td>-122.39447</td>\n",
       "      <td>2008-05-17 14:13:34</td>\n",
       "      <td>0</td>\n",
       "    </tr>\n",
       "    <tr>\n",
       "      <th>2</th>\n",
       "      <td>abboip_1211033674</td>\n",
       "      <td>abboip</td>\n",
       "      <td>37.75149</td>\n",
       "      <td>-122.39447</td>\n",
       "      <td>2008-05-17 14:14:34</td>\n",
       "      <td>0</td>\n",
       "    </tr>\n",
       "    <tr>\n",
       "      <th>3</th>\n",
       "      <td>abboip_1211033735</td>\n",
       "      <td>abboip</td>\n",
       "      <td>37.75149</td>\n",
       "      <td>-122.39446</td>\n",
       "      <td>2008-05-17 14:15:35</td>\n",
       "      <td>0</td>\n",
       "    </tr>\n",
       "    <tr>\n",
       "      <th>4</th>\n",
       "      <td>abboip_1211035303</td>\n",
       "      <td>abboip</td>\n",
       "      <td>37.75144</td>\n",
       "      <td>-122.39449</td>\n",
       "      <td>2008-05-17 14:41:43</td>\n",
       "      <td>0</td>\n",
       "    </tr>\n",
       "  </tbody>\n",
       "</table>\n",
       "</div>"
      ],
      "text/plain": [
       "                  id file_name  latitude  longitude                time  \\\n",
       "0  abboip_1211033530    abboip  37.75153 -122.39447 2008-05-17 14:12:10   \n",
       "1  abboip_1211033614    abboip  37.75149 -122.39447 2008-05-17 14:13:34   \n",
       "2  abboip_1211033674    abboip  37.75149 -122.39447 2008-05-17 14:14:34   \n",
       "3  abboip_1211033735    abboip  37.75149 -122.39446 2008-05-17 14:15:35   \n",
       "4  abboip_1211035303    abboip  37.75144 -122.39449 2008-05-17 14:41:43   \n",
       "\n",
       "   occupancy  \n",
       "0          0  \n",
       "1          0  \n",
       "2          0  \n",
       "3          0  \n",
       "4          0  "
      ]
     },
     "execution_count": 2,
     "metadata": {},
     "output_type": "execute_result"
    }
   ],
   "source": [
    "# import the base df\n",
    "data_path = 'data_checkpoints/usecase_cab/'\n",
    "df = pd.read_csv(data_path+'base_df.csv', index_col=0)\n",
    "df['time']= pd.to_datetime(df['time'])\n",
    "df.head()"
   ]
  },
  {
   "cell_type": "code",
   "execution_count": 3,
   "id": "1b94bc85",
   "metadata": {},
   "outputs": [
    {
     "data": {
      "text/html": [
       "<div>\n",
       "<style scoped>\n",
       "    .dataframe tbody tr th:only-of-type {\n",
       "        vertical-align: middle;\n",
       "    }\n",
       "\n",
       "    .dataframe tbody tr th {\n",
       "        vertical-align: top;\n",
       "    }\n",
       "\n",
       "    .dataframe thead th {\n",
       "        text-align: right;\n",
       "    }\n",
       "</style>\n",
       "<table border=\"1\" class=\"dataframe\">\n",
       "  <thead>\n",
       "    <tr style=\"text-align: right;\">\n",
       "      <th></th>\n",
       "      <th>id</th>\n",
       "      <th>file_name</th>\n",
       "      <th>time</th>\n",
       "      <th>occupancy</th>\n",
       "    </tr>\n",
       "  </thead>\n",
       "  <tbody>\n",
       "    <tr>\n",
       "      <th>0</th>\n",
       "      <td>abboip_1211033530</td>\n",
       "      <td>abboip</td>\n",
       "      <td>2008-05-17 14:12:10</td>\n",
       "      <td>0</td>\n",
       "    </tr>\n",
       "    <tr>\n",
       "      <th>1</th>\n",
       "      <td>abboip_1211033614</td>\n",
       "      <td>abboip</td>\n",
       "      <td>2008-05-17 14:13:34</td>\n",
       "      <td>0</td>\n",
       "    </tr>\n",
       "  </tbody>\n",
       "</table>\n",
       "</div>"
      ],
      "text/plain": [
       "                  id file_name                time  occupancy\n",
       "0  abboip_1211033530    abboip 2008-05-17 14:12:10          0\n",
       "1  abboip_1211033614    abboip 2008-05-17 14:13:34          0"
      ]
     },
     "execution_count": 3,
     "metadata": {},
     "output_type": "execute_result"
    }
   ],
   "source": [
    "# drop columns not needed for the occupancy_state_change\n",
    "df.drop(['latitude', 'longitude'], axis=1, inplace=True)\n",
    "df.head(2)"
   ]
  },
  {
   "cell_type": "code",
   "execution_count": 4,
   "id": "8a376b62",
   "metadata": {},
   "outputs": [
    {
     "data": {
      "text/html": [
       "<div>\n",
       "<style scoped>\n",
       "    .dataframe tbody tr th:only-of-type {\n",
       "        vertical-align: middle;\n",
       "    }\n",
       "\n",
       "    .dataframe tbody tr th {\n",
       "        vertical-align: top;\n",
       "    }\n",
       "\n",
       "    .dataframe thead th {\n",
       "        text-align: right;\n",
       "    }\n",
       "</style>\n",
       "<table border=\"1\" class=\"dataframe\">\n",
       "  <thead>\n",
       "    <tr style=\"text-align: right;\">\n",
       "      <th></th>\n",
       "      <th>id</th>\n",
       "      <th>file_name</th>\n",
       "      <th>time</th>\n",
       "      <th>occupancy</th>\n",
       "      <th>occupancy_state_change</th>\n",
       "      <th>id_event</th>\n",
       "    </tr>\n",
       "  </thead>\n",
       "  <tbody>\n",
       "    <tr>\n",
       "      <th>0</th>\n",
       "      <td>abboip_1211033530</td>\n",
       "      <td>abboip</td>\n",
       "      <td>2008-05-17 14:12:10</td>\n",
       "      <td>0</td>\n",
       "      <td>1.0</td>\n",
       "      <td>abboip_1211033530</td>\n",
       "    </tr>\n",
       "    <tr>\n",
       "      <th>1</th>\n",
       "      <td>abboip_1211033614</td>\n",
       "      <td>abboip</td>\n",
       "      <td>2008-05-17 14:13:34</td>\n",
       "      <td>0</td>\n",
       "      <td>0.0</td>\n",
       "      <td>abboip_1211033530</td>\n",
       "    </tr>\n",
       "  </tbody>\n",
       "</table>\n",
       "</div>"
      ],
      "text/plain": [
       "                  id file_name                time  occupancy  \\\n",
       "0  abboip_1211033530    abboip 2008-05-17 14:12:10          0   \n",
       "1  abboip_1211033614    abboip 2008-05-17 14:13:34          0   \n",
       "\n",
       "   occupancy_state_change           id_event  \n",
       "0                     1.0  abboip_1211033530  \n",
       "1                     0.0  abboip_1211033530  "
      ]
     },
     "execution_count": 4,
     "metadata": {},
     "output_type": "execute_result"
    }
   ],
   "source": [
    "df['occupancy_state_change'] = df.sort_values(['time']).groupby(by=['file_name'])['occupancy'].diff()\n",
    "df = df.fillna(1)\n",
    "\n",
    "df['occupancy_state_change'] = df['occupancy_state_change'].abs()\n",
    "df['id_event'] = df['file_name'] + '_' + df['time'].astype(str)\n",
    "df['id_event'] = df['id'][df['occupancy_state_change'] == 1.0]\n",
    "\n",
    "df = df.fillna(method=\"ffill\")\n",
    "df.head(2)"
   ]
  },
  {
   "cell_type": "code",
   "execution_count": 5,
   "id": "1ee8081e",
   "metadata": {},
   "outputs": [
    {
     "data": {
      "text/html": [
       "<div>\n",
       "<style scoped>\n",
       "    .dataframe tbody tr th:only-of-type {\n",
       "        vertical-align: middle;\n",
       "    }\n",
       "\n",
       "    .dataframe tbody tr th {\n",
       "        vertical-align: top;\n",
       "    }\n",
       "\n",
       "    .dataframe thead th {\n",
       "        text-align: right;\n",
       "    }\n",
       "</style>\n",
       "<table border=\"1\" class=\"dataframe\">\n",
       "  <thead>\n",
       "    <tr style=\"text-align: right;\">\n",
       "      <th></th>\n",
       "      <th>id</th>\n",
       "      <th>id_event</th>\n",
       "    </tr>\n",
       "  </thead>\n",
       "  <tbody>\n",
       "    <tr>\n",
       "      <th>0</th>\n",
       "      <td>abboip_1211033530</td>\n",
       "      <td>abboip_1211033530</td>\n",
       "    </tr>\n",
       "    <tr>\n",
       "      <th>1</th>\n",
       "      <td>abboip_1211033614</td>\n",
       "      <td>abboip_1211033530</td>\n",
       "    </tr>\n",
       "  </tbody>\n",
       "</table>\n",
       "</div>"
      ],
      "text/plain": [
       "                  id           id_event\n",
       "0  abboip_1211033530  abboip_1211033530\n",
       "1  abboip_1211033614  abboip_1211033530"
      ]
     },
     "execution_count": 5,
     "metadata": {},
     "output_type": "execute_result"
    }
   ],
   "source": [
    "# drop additional columns to keep dataframe lean\n",
    "df.drop(['file_name', 'time', 'occupancy', 'occupancy_state_change'], axis=1, inplace=True)\n",
    "df.head(2)"
   ]
  },
  {
   "cell_type": "code",
   "execution_count": 6,
   "id": "5d6bd979",
   "metadata": {},
   "outputs": [
    {
     "data": {
      "text/plain": [
       "0"
      ]
     },
     "execution_count": 6,
     "metadata": {},
     "output_type": "execute_result"
    }
   ],
   "source": [
    "df.to_csv(data_path+'occupancy_state_change.csv')\n",
    "del df\n",
    "gc.collect()"
   ]
  }
 ],
 "metadata": {
  "kernelspec": {
   "display_name": "Python 3 (ipykernel)",
   "language": "python",
   "name": "python3"
  },
  "language_info": {
   "codemirror_mode": {
    "name": "ipython",
    "version": 3
   },
   "file_extension": ".py",
   "mimetype": "text/x-python",
   "name": "python",
   "nbconvert_exporter": "python",
   "pygments_lexer": "ipython3",
   "version": "3.10.4"
  }
 },
 "nbformat": 4,
 "nbformat_minor": 5
}
