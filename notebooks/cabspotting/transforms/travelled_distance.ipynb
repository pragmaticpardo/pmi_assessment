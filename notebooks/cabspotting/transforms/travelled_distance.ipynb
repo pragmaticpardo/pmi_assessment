{
 "cells": [
  {
   "cell_type": "code",
   "execution_count": 1,
   "id": "a5313c2c",
   "metadata": {},
   "outputs": [
    {
     "name": "stdout",
     "output_type": "stream",
     "text": [
      "D:\\Projects\\CondaAnalyses\\PMI\n"
     ]
    }
   ],
   "source": [
    "%cd ..\\..\\..\n",
    "import pandas as pd\n",
    "import gc\n",
    "import utilities"
   ]
  },
  {
   "cell_type": "code",
   "execution_count": 2,
   "id": "89b3c036",
   "metadata": {},
   "outputs": [],
   "source": [
    "data_path = 'data_checkpoints/usecase_cab/'"
   ]
  },
  {
   "cell_type": "code",
   "execution_count": 3,
   "id": "b58a8c5a",
   "metadata": {},
   "outputs": [
    {
     "data": {
      "text/html": [
       "<div>\n",
       "<style scoped>\n",
       "    .dataframe tbody tr th:only-of-type {\n",
       "        vertical-align: middle;\n",
       "    }\n",
       "\n",
       "    .dataframe tbody tr th {\n",
       "        vertical-align: top;\n",
       "    }\n",
       "\n",
       "    .dataframe thead th {\n",
       "        text-align: right;\n",
       "    }\n",
       "</style>\n",
       "<table border=\"1\" class=\"dataframe\">\n",
       "  <thead>\n",
       "    <tr style=\"text-align: right;\">\n",
       "      <th></th>\n",
       "      <th>id</th>\n",
       "      <th>id_event</th>\n",
       "    </tr>\n",
       "  </thead>\n",
       "  <tbody>\n",
       "    <tr>\n",
       "      <th>0</th>\n",
       "      <td>abboip_1211033530</td>\n",
       "      <td>abboip_1211033530</td>\n",
       "    </tr>\n",
       "    <tr>\n",
       "      <th>1</th>\n",
       "      <td>abboip_1211033614</td>\n",
       "      <td>abboip_1211033530</td>\n",
       "    </tr>\n",
       "  </tbody>\n",
       "</table>\n",
       "</div>"
      ],
      "text/plain": [
       "                  id           id_event\n",
       "0  abboip_1211033530  abboip_1211033530\n",
       "1  abboip_1211033614  abboip_1211033530"
      ]
     },
     "execution_count": 3,
     "metadata": {},
     "output_type": "execute_result"
    }
   ],
   "source": [
    "# import the occupancy df to get the id_event feature\n",
    "occupancy_df = pd.read_csv(data_path+'occupancy_state_change.csv', index_col=0)\n",
    "occupancy_df.drop(['occupancy_state_change'], axis=1, inplace=True)\n",
    "occupancy_df.head(2)"
   ]
  },
  {
   "cell_type": "code",
   "execution_count": 4,
   "id": "71443475",
   "metadata": {},
   "outputs": [
    {
     "data": {
      "text/html": [
       "<div>\n",
       "<style scoped>\n",
       "    .dataframe tbody tr th:only-of-type {\n",
       "        vertical-align: middle;\n",
       "    }\n",
       "\n",
       "    .dataframe tbody tr th {\n",
       "        vertical-align: top;\n",
       "    }\n",
       "\n",
       "    .dataframe thead th {\n",
       "        text-align: right;\n",
       "    }\n",
       "</style>\n",
       "<table border=\"1\" class=\"dataframe\">\n",
       "  <thead>\n",
       "    <tr style=\"text-align: right;\">\n",
       "      <th></th>\n",
       "      <th>id</th>\n",
       "      <th>origin_latitude</th>\n",
       "      <th>destination_latitude</th>\n",
       "      <th>origin_longitude</th>\n",
       "      <th>destination_longitude</th>\n",
       "    </tr>\n",
       "  </thead>\n",
       "  <tbody>\n",
       "    <tr>\n",
       "      <th>0</th>\n",
       "      <td>abboip_1211033530</td>\n",
       "      <td>37.75153</td>\n",
       "      <td>37.74978</td>\n",
       "      <td>-122.39447</td>\n",
       "      <td>-122.39709</td>\n",
       "    </tr>\n",
       "    <tr>\n",
       "      <th>1</th>\n",
       "      <td>abboip_1211033614</td>\n",
       "      <td>37.75153</td>\n",
       "      <td>37.74978</td>\n",
       "      <td>-122.39447</td>\n",
       "      <td>-122.39709</td>\n",
       "    </tr>\n",
       "    <tr>\n",
       "      <th>2</th>\n",
       "      <td>abboip_1211033674</td>\n",
       "      <td>37.75153</td>\n",
       "      <td>37.74978</td>\n",
       "      <td>-122.39447</td>\n",
       "      <td>-122.39709</td>\n",
       "    </tr>\n",
       "    <tr>\n",
       "      <th>3</th>\n",
       "      <td>abboip_1211033735</td>\n",
       "      <td>37.75153</td>\n",
       "      <td>37.74978</td>\n",
       "      <td>-122.39447</td>\n",
       "      <td>-122.39709</td>\n",
       "    </tr>\n",
       "    <tr>\n",
       "      <th>4</th>\n",
       "      <td>abboip_1211035303</td>\n",
       "      <td>37.75153</td>\n",
       "      <td>37.74978</td>\n",
       "      <td>-122.39447</td>\n",
       "      <td>-122.39709</td>\n",
       "    </tr>\n",
       "  </tbody>\n",
       "</table>\n",
       "</div>"
      ],
      "text/plain": [
       "                  id  origin_latitude  destination_latitude  origin_longitude  \\\n",
       "0  abboip_1211033530         37.75153              37.74978        -122.39447   \n",
       "1  abboip_1211033614         37.75153              37.74978        -122.39447   \n",
       "2  abboip_1211033674         37.75153              37.74978        -122.39447   \n",
       "3  abboip_1211033735         37.75153              37.74978        -122.39447   \n",
       "4  abboip_1211035303         37.75153              37.74978        -122.39447   \n",
       "\n",
       "   destination_longitude  \n",
       "0             -122.39709  \n",
       "1             -122.39709  \n",
       "2             -122.39709  \n",
       "3             -122.39709  \n",
       "4             -122.39709  "
      ]
     },
     "execution_count": 4,
     "metadata": {},
     "output_type": "execute_result"
    }
   ],
   "source": [
    "# import the origin/destinatino coordinates df\n",
    "coordinates_df = pd.read_csv(data_path+'origin_destination_coordinates.csv', index_col=0)\n",
    "coordinates_df.head()"
   ]
  },
  {
   "cell_type": "code",
   "execution_count": 5,
   "id": "7301715b",
   "metadata": {},
   "outputs": [
    {
     "data": {
      "text/html": [
       "<div>\n",
       "<style scoped>\n",
       "    .dataframe tbody tr th:only-of-type {\n",
       "        vertical-align: middle;\n",
       "    }\n",
       "\n",
       "    .dataframe tbody tr th {\n",
       "        vertical-align: top;\n",
       "    }\n",
       "\n",
       "    .dataframe thead th {\n",
       "        text-align: right;\n",
       "    }\n",
       "</style>\n",
       "<table border=\"1\" class=\"dataframe\">\n",
       "  <thead>\n",
       "    <tr style=\"text-align: right;\">\n",
       "      <th></th>\n",
       "      <th>id</th>\n",
       "      <th>id_event</th>\n",
       "      <th>origin_latitude</th>\n",
       "      <th>destination_latitude</th>\n",
       "      <th>origin_longitude</th>\n",
       "      <th>destination_longitude</th>\n",
       "    </tr>\n",
       "  </thead>\n",
       "  <tbody>\n",
       "    <tr>\n",
       "      <th>0</th>\n",
       "      <td>abboip_1211033530</td>\n",
       "      <td>abboip_1211033530</td>\n",
       "      <td>37.75153</td>\n",
       "      <td>37.74978</td>\n",
       "      <td>-122.39447</td>\n",
       "      <td>-122.39709</td>\n",
       "    </tr>\n",
       "    <tr>\n",
       "      <th>1</th>\n",
       "      <td>abboip_1211033614</td>\n",
       "      <td>abboip_1211033530</td>\n",
       "      <td>37.75153</td>\n",
       "      <td>37.74978</td>\n",
       "      <td>-122.39447</td>\n",
       "      <td>-122.39709</td>\n",
       "    </tr>\n",
       "    <tr>\n",
       "      <th>2</th>\n",
       "      <td>abboip_1211033674</td>\n",
       "      <td>abboip_1211033530</td>\n",
       "      <td>37.75153</td>\n",
       "      <td>37.74978</td>\n",
       "      <td>-122.39447</td>\n",
       "      <td>-122.39709</td>\n",
       "    </tr>\n",
       "    <tr>\n",
       "      <th>3</th>\n",
       "      <td>abboip_1211033735</td>\n",
       "      <td>abboip_1211033530</td>\n",
       "      <td>37.75153</td>\n",
       "      <td>37.74978</td>\n",
       "      <td>-122.39447</td>\n",
       "      <td>-122.39709</td>\n",
       "    </tr>\n",
       "    <tr>\n",
       "      <th>4</th>\n",
       "      <td>abboip_1211035303</td>\n",
       "      <td>abboip_1211033530</td>\n",
       "      <td>37.75153</td>\n",
       "      <td>37.74978</td>\n",
       "      <td>-122.39447</td>\n",
       "      <td>-122.39709</td>\n",
       "    </tr>\n",
       "  </tbody>\n",
       "</table>\n",
       "</div>"
      ],
      "text/plain": [
       "                  id           id_event  origin_latitude  \\\n",
       "0  abboip_1211033530  abboip_1211033530         37.75153   \n",
       "1  abboip_1211033614  abboip_1211033530         37.75153   \n",
       "2  abboip_1211033674  abboip_1211033530         37.75153   \n",
       "3  abboip_1211033735  abboip_1211033530         37.75153   \n",
       "4  abboip_1211035303  abboip_1211033530         37.75153   \n",
       "\n",
       "   destination_latitude  origin_longitude  destination_longitude  \n",
       "0              37.74978        -122.39447             -122.39709  \n",
       "1              37.74978        -122.39447             -122.39709  \n",
       "2              37.74978        -122.39447             -122.39709  \n",
       "3              37.74978        -122.39447             -122.39709  \n",
       "4              37.74978        -122.39447             -122.39709  "
      ]
     },
     "execution_count": 5,
     "metadata": {},
     "output_type": "execute_result"
    }
   ],
   "source": [
    "df = occupancy_df.merge(coordinates_df, on='id')\n",
    "df.head()"
   ]
  },
  {
   "cell_type": "code",
   "execution_count": 6,
   "id": "58e68c0a",
   "metadata": {},
   "outputs": [
    {
     "data": {
      "text/plain": [
       "0"
      ]
     },
     "execution_count": 6,
     "metadata": {},
     "output_type": "execute_result"
    }
   ],
   "source": [
    "# Make RAM Happy :)\n",
    "del coordinates_df, occupancy_df\n",
    "gc.collect()"
   ]
  },
  {
   "cell_type": "code",
   "execution_count": 7,
   "id": "b4259f31",
   "metadata": {},
   "outputs": [
    {
     "data": {
      "text/html": [
       "<div>\n",
       "<style scoped>\n",
       "    .dataframe tbody tr th:only-of-type {\n",
       "        vertical-align: middle;\n",
       "    }\n",
       "\n",
       "    .dataframe tbody tr th {\n",
       "        vertical-align: top;\n",
       "    }\n",
       "\n",
       "    .dataframe thead th {\n",
       "        text-align: right;\n",
       "    }\n",
       "</style>\n",
       "<table border=\"1\" class=\"dataframe\">\n",
       "  <thead>\n",
       "    <tr style=\"text-align: right;\">\n",
       "      <th></th>\n",
       "      <th>id</th>\n",
       "      <th>id_event</th>\n",
       "      <th>origin_latitude</th>\n",
       "      <th>destination_latitude</th>\n",
       "      <th>origin_longitude</th>\n",
       "      <th>destination_longitude</th>\n",
       "      <th>travelled_distance_km</th>\n",
       "    </tr>\n",
       "  </thead>\n",
       "  <tbody>\n",
       "    <tr>\n",
       "      <th>0</th>\n",
       "      <td>abboip_1211033530</td>\n",
       "      <td>abboip_1211033530</td>\n",
       "      <td>37.75153</td>\n",
       "      <td>37.74978</td>\n",
       "      <td>-122.39447</td>\n",
       "      <td>-122.39709</td>\n",
       "      <td>0.301731</td>\n",
       "    </tr>\n",
       "    <tr>\n",
       "      <th>1</th>\n",
       "      <td>abboip_1211033614</td>\n",
       "      <td>abboip_1211033530</td>\n",
       "      <td>37.75153</td>\n",
       "      <td>37.74978</td>\n",
       "      <td>-122.39447</td>\n",
       "      <td>-122.39709</td>\n",
       "      <td>0.301731</td>\n",
       "    </tr>\n",
       "    <tr>\n",
       "      <th>2</th>\n",
       "      <td>abboip_1211033674</td>\n",
       "      <td>abboip_1211033530</td>\n",
       "      <td>37.75153</td>\n",
       "      <td>37.74978</td>\n",
       "      <td>-122.39447</td>\n",
       "      <td>-122.39709</td>\n",
       "      <td>0.301731</td>\n",
       "    </tr>\n",
       "    <tr>\n",
       "      <th>3</th>\n",
       "      <td>abboip_1211033735</td>\n",
       "      <td>abboip_1211033530</td>\n",
       "      <td>37.75153</td>\n",
       "      <td>37.74978</td>\n",
       "      <td>-122.39447</td>\n",
       "      <td>-122.39709</td>\n",
       "      <td>0.301731</td>\n",
       "    </tr>\n",
       "    <tr>\n",
       "      <th>4</th>\n",
       "      <td>abboip_1211035303</td>\n",
       "      <td>abboip_1211033530</td>\n",
       "      <td>37.75153</td>\n",
       "      <td>37.74978</td>\n",
       "      <td>-122.39447</td>\n",
       "      <td>-122.39709</td>\n",
       "      <td>0.301731</td>\n",
       "    </tr>\n",
       "  </tbody>\n",
       "</table>\n",
       "</div>"
      ],
      "text/plain": [
       "                  id           id_event  origin_latitude  \\\n",
       "0  abboip_1211033530  abboip_1211033530         37.75153   \n",
       "1  abboip_1211033614  abboip_1211033530         37.75153   \n",
       "2  abboip_1211033674  abboip_1211033530         37.75153   \n",
       "3  abboip_1211033735  abboip_1211033530         37.75153   \n",
       "4  abboip_1211035303  abboip_1211033530         37.75153   \n",
       "\n",
       "   destination_latitude  origin_longitude  destination_longitude  \\\n",
       "0              37.74978        -122.39447             -122.39709   \n",
       "1              37.74978        -122.39447             -122.39709   \n",
       "2              37.74978        -122.39447             -122.39709   \n",
       "3              37.74978        -122.39447             -122.39709   \n",
       "4              37.74978        -122.39447             -122.39709   \n",
       "\n",
       "   travelled_distance_km  \n",
       "0               0.301731  \n",
       "1               0.301731  \n",
       "2               0.301731  \n",
       "3               0.301731  \n",
       "4               0.301731  "
      ]
     },
     "execution_count": 7,
     "metadata": {},
     "output_type": "execute_result"
    }
   ],
   "source": [
    "df = utilities.append_haversine_distance(\n",
    "    df,\n",
    "    'id_event',\n",
    "    'origin_latitude',\n",
    "    'origin_longitude',\n",
    "    'destination_latitude',\n",
    "    'destination_longitude')\n",
    "df.head()\n"
   ]
  },
  {
   "cell_type": "code",
   "execution_count": 8,
   "id": "a186d07d",
   "metadata": {},
   "outputs": [
    {
     "data": {
      "text/html": [
       "<div>\n",
       "<style scoped>\n",
       "    .dataframe tbody tr th:only-of-type {\n",
       "        vertical-align: middle;\n",
       "    }\n",
       "\n",
       "    .dataframe tbody tr th {\n",
       "        vertical-align: top;\n",
       "    }\n",
       "\n",
       "    .dataframe thead th {\n",
       "        text-align: right;\n",
       "    }\n",
       "</style>\n",
       "<table border=\"1\" class=\"dataframe\">\n",
       "  <thead>\n",
       "    <tr style=\"text-align: right;\">\n",
       "      <th></th>\n",
       "      <th>id</th>\n",
       "      <th>travelled_distance_km</th>\n",
       "    </tr>\n",
       "  </thead>\n",
       "  <tbody>\n",
       "    <tr>\n",
       "      <th>0</th>\n",
       "      <td>abboip_1211033530</td>\n",
       "      <td>0.301731</td>\n",
       "    </tr>\n",
       "    <tr>\n",
       "      <th>1</th>\n",
       "      <td>abboip_1211033614</td>\n",
       "      <td>0.301731</td>\n",
       "    </tr>\n",
       "    <tr>\n",
       "      <th>2</th>\n",
       "      <td>abboip_1211033674</td>\n",
       "      <td>0.301731</td>\n",
       "    </tr>\n",
       "    <tr>\n",
       "      <th>3</th>\n",
       "      <td>abboip_1211033735</td>\n",
       "      <td>0.301731</td>\n",
       "    </tr>\n",
       "    <tr>\n",
       "      <th>4</th>\n",
       "      <td>abboip_1211035303</td>\n",
       "      <td>0.301731</td>\n",
       "    </tr>\n",
       "  </tbody>\n",
       "</table>\n",
       "</div>"
      ],
      "text/plain": [
       "                  id  travelled_distance_km\n",
       "0  abboip_1211033530               0.301731\n",
       "1  abboip_1211033614               0.301731\n",
       "2  abboip_1211033674               0.301731\n",
       "3  abboip_1211033735               0.301731\n",
       "4  abboip_1211035303               0.301731"
      ]
     },
     "execution_count": 8,
     "metadata": {},
     "output_type": "execute_result"
    }
   ],
   "source": [
    "# drop unnecesary columns\n",
    "df.drop(['id_event',\n",
    "         'origin_latitude',\n",
    "         'destination_latitude',\n",
    "         'origin_longitude',\n",
    "         'destination_longitude'],\n",
    "        axis=1,\n",
    "        inplace=True)\n",
    "df.head()"
   ]
  },
  {
   "cell_type": "code",
   "execution_count": 9,
   "id": "115508d4",
   "metadata": {},
   "outputs": [
    {
     "data": {
      "text/plain": [
       "0"
      ]
     },
     "execution_count": 9,
     "metadata": {},
     "output_type": "execute_result"
    }
   ],
   "source": [
    "df.to_csv(data_path+'travelled_distance.csv')\n",
    "del df\n",
    "gc.collect()"
   ]
  },
  {
   "cell_type": "code",
   "execution_count": null,
   "id": "2f6f4bfd",
   "metadata": {},
   "outputs": [],
   "source": []
  }
 ],
 "metadata": {
  "kernelspec": {
   "display_name": "Python 3 (ipykernel)",
   "language": "python",
   "name": "python3"
  },
  "language_info": {
   "codemirror_mode": {
    "name": "ipython",
    "version": 3
   },
   "file_extension": ".py",
   "mimetype": "text/x-python",
   "name": "python",
   "nbconvert_exporter": "python",
   "pygments_lexer": "ipython3",
   "version": "3.10.4"
  }
 },
 "nbformat": 4,
 "nbformat_minor": 5
}
